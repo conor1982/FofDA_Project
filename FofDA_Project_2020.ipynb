{
 "cells": [
  {
   "cell_type": "markdown",
   "metadata": {},
   "source": [
    "# Fundamentals of Data Analysis\n",
    "\n",
    "## Project 2020\n",
    "\n",
    "In this project perform and explain simple linear regression using Python\n",
    "on the powerproduction dataset available on Moodle. The goal is to accurately predict wind turbine power output from wind speed values using the data set as a basis.\n",
    "\n",
    "For enhancement, compare simple linear regression to\n",
    "other types of regression on this data set\n",
    "\n",
    "### Project Plan\n",
    "\n",
    "1. Upload the dataset.\n",
    "2. Import required libaries for the notebook\n",
    "3. Intial look at the datset, pandas.describe(), distribution of data, np.random.normal\n",
    "4. scatterplot of the data using seaborn\n",
    "5. Explore https://scikit-learn.org/stable/supervised_learning.html#supervised-learning \n",
    "6. Understand maybe 5 types of regression on this dataset.\n",
    "7. Research types of regression that might be suitable - idea of curve/line post initial look at dataset.\n",
    "8. Regression Vids Tutorials for better understanding:\n",
    " - https://www.youtube.com/user/zedstatistics\n",
    " - https://en.wikipedia.org/wiki/Regression_analysis\n",
    " - https://www.statisticshowto.com/probability-and-statistics/regression-analysis/\n",
    " - https://www.sciencedirect.com/topics/medicine-and-dentistry/regression-analysis\n",
    "9. Plots to describe each regression type\n",
    "10. subplots for comparison\n",
    "11. tables for comparison\n"
   ]
  },
  {
   "cell_type": "code",
   "execution_count": null,
   "metadata": {},
   "outputs": [],
   "source": []
  }
 ],
 "metadata": {
  "kernelspec": {
   "display_name": "Python 3",
   "language": "python",
   "name": "python3"
  },
  "language_info": {
   "codemirror_mode": {
    "name": "ipython",
    "version": 3
   },
   "file_extension": ".py",
   "mimetype": "text/x-python",
   "name": "python",
   "nbconvert_exporter": "python",
   "pygments_lexer": "ipython3",
   "version": "3.8.3"
  }
 },
 "nbformat": 4,
 "nbformat_minor": 4
}
