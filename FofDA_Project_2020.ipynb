{
 "cells": [
  {
   "cell_type": "markdown",
   "metadata": {},
   "source": [
    "# Fundamentals of Data Analysis\n",
    "\n",
    "## Project 2020\n",
    "\n",
    "In this project perform and explain simple linear regression using Python\n",
    "on the powerproduction dataset available on Moodle. The goal is to accurately predict wind turbine power output from wind speed values using the data set as a basis.\n",
    "\n",
    "For enhancement, compare simple linear regression to\n",
    "other types of regression on this data set\n",
    "\n",
    "### Project Plan\n",
    "\n",
    "1. Upload the dataset.\n",
    "2. Import required libaries for the notebook\n",
    "3. Intial look at the datset, pandas.describe(), distribution of data, np.random.normal\n",
    "4. scatterplot of the data using seaborn\n",
    "5. Explore https://scikit-learn.org/stable/supervised_learning.html#supervised-learning \n",
    "6. Understand maybe 5 types of regression on this dataset.\n",
    "7. Research types of regression that might be suitable - idea of curve/line post initial look at dataset.\n",
    "8. Regression Vids Tutorials for better understanding:\n",
    " - https://www.youtube.com/user/zedstatistics\n",
    " - https://en.wikipedia.org/wiki/Regression_analysis\n",
    " - https://www.statisticshowto.com/probability-and-statistics/regression-analysis/\n",
    " - https://www.sciencedirect.com/topics/medicine-and-dentistry/regression-analysis\n",
    "9. Plots to describe each regression type\n",
    "10. subplots for comparison\n",
    "11. tables for comparison\n"
   ]
  },
  {
   "cell_type": "code",
   "execution_count": 1,
   "metadata": {},
   "outputs": [],
   "source": [
    "import pandas as pd\n",
    "import numpy as np\n",
    "import matplotlib.pyplot as plt\n",
    "import seaborn as sns"
   ]
  },
  {
   "cell_type": "code",
   "execution_count": 2,
   "metadata": {},
   "outputs": [],
   "source": [
    "#style of plot to be used\n",
    "plt.style.use(\"ggplot\")"
   ]
  },
  {
   "cell_type": "code",
   "execution_count": 3,
   "metadata": {},
   "outputs": [
    {
     "data": {
      "text/html": [
       "<div>\n",
       "<style scoped>\n",
       "    .dataframe tbody tr th:only-of-type {\n",
       "        vertical-align: middle;\n",
       "    }\n",
       "\n",
       "    .dataframe tbody tr th {\n",
       "        vertical-align: top;\n",
       "    }\n",
       "\n",
       "    .dataframe thead th {\n",
       "        text-align: right;\n",
       "    }\n",
       "</style>\n",
       "<table border=\"1\" class=\"dataframe\">\n",
       "  <thead>\n",
       "    <tr style=\"text-align: right;\">\n",
       "      <th></th>\n",
       "      <th>speed</th>\n",
       "      <th>power</th>\n",
       "    </tr>\n",
       "  </thead>\n",
       "  <tbody>\n",
       "    <tr>\n",
       "      <th>0</th>\n",
       "      <td>0.000</td>\n",
       "      <td>0.0</td>\n",
       "    </tr>\n",
       "    <tr>\n",
       "      <th>1</th>\n",
       "      <td>0.125</td>\n",
       "      <td>0.0</td>\n",
       "    </tr>\n",
       "    <tr>\n",
       "      <th>2</th>\n",
       "      <td>0.150</td>\n",
       "      <td>0.0</td>\n",
       "    </tr>\n",
       "    <tr>\n",
       "      <th>3</th>\n",
       "      <td>0.225</td>\n",
       "      <td>0.0</td>\n",
       "    </tr>\n",
       "    <tr>\n",
       "      <th>4</th>\n",
       "      <td>0.275</td>\n",
       "      <td>0.0</td>\n",
       "    </tr>\n",
       "    <tr>\n",
       "      <th>...</th>\n",
       "      <td>...</td>\n",
       "      <td>...</td>\n",
       "    </tr>\n",
       "    <tr>\n",
       "      <th>495</th>\n",
       "      <td>24.775</td>\n",
       "      <td>0.0</td>\n",
       "    </tr>\n",
       "    <tr>\n",
       "      <th>496</th>\n",
       "      <td>24.850</td>\n",
       "      <td>0.0</td>\n",
       "    </tr>\n",
       "    <tr>\n",
       "      <th>497</th>\n",
       "      <td>24.875</td>\n",
       "      <td>0.0</td>\n",
       "    </tr>\n",
       "    <tr>\n",
       "      <th>498</th>\n",
       "      <td>24.950</td>\n",
       "      <td>0.0</td>\n",
       "    </tr>\n",
       "    <tr>\n",
       "      <th>499</th>\n",
       "      <td>25.000</td>\n",
       "      <td>0.0</td>\n",
       "    </tr>\n",
       "  </tbody>\n",
       "</table>\n",
       "<p>500 rows × 2 columns</p>\n",
       "</div>"
      ],
      "text/plain": [
       "      speed  power\n",
       "0     0.000    0.0\n",
       "1     0.125    0.0\n",
       "2     0.150    0.0\n",
       "3     0.225    0.0\n",
       "4     0.275    0.0\n",
       "..      ...    ...\n",
       "495  24.775    0.0\n",
       "496  24.850    0.0\n",
       "497  24.875    0.0\n",
       "498  24.950    0.0\n",
       "499  25.000    0.0\n",
       "\n",
       "[500 rows x 2 columns]"
      ]
     },
     "execution_count": 3,
     "metadata": {},
     "output_type": "execute_result"
    }
   ],
   "source": [
    "#reading in the dataset\n",
    "df = pd.read_csv('powerproduction.txt')\n",
    "df"
   ]
  },
  {
   "cell_type": "code",
   "execution_count": 4,
   "metadata": {},
   "outputs": [
    {
     "data": {
      "text/plain": [
       "speed    float64\n",
       "power    float64\n",
       "dtype: object"
      ]
     },
     "execution_count": 4,
     "metadata": {},
     "output_type": "execute_result"
    }
   ],
   "source": [
    "#data types\n",
    "df.dtypes"
   ]
  },
  {
   "cell_type": "code",
   "execution_count": 5,
   "metadata": {},
   "outputs": [
    {
     "data": {
      "text/html": [
       "<div>\n",
       "<style scoped>\n",
       "    .dataframe tbody tr th:only-of-type {\n",
       "        vertical-align: middle;\n",
       "    }\n",
       "\n",
       "    .dataframe tbody tr th {\n",
       "        vertical-align: top;\n",
       "    }\n",
       "\n",
       "    .dataframe thead th {\n",
       "        text-align: right;\n",
       "    }\n",
       "</style>\n",
       "<table border=\"1\" class=\"dataframe\">\n",
       "  <thead>\n",
       "    <tr style=\"text-align: right;\">\n",
       "      <th></th>\n",
       "      <th>speed</th>\n",
       "      <th>power</th>\n",
       "    </tr>\n",
       "  </thead>\n",
       "  <tbody>\n",
       "    <tr>\n",
       "      <th>count</th>\n",
       "      <td>500.000000</td>\n",
       "      <td>500.000000</td>\n",
       "    </tr>\n",
       "    <tr>\n",
       "      <th>mean</th>\n",
       "      <td>12.590398</td>\n",
       "      <td>48.014584</td>\n",
       "    </tr>\n",
       "    <tr>\n",
       "      <th>std</th>\n",
       "      <td>7.224991</td>\n",
       "      <td>41.614572</td>\n",
       "    </tr>\n",
       "    <tr>\n",
       "      <th>min</th>\n",
       "      <td>0.000000</td>\n",
       "      <td>0.000000</td>\n",
       "    </tr>\n",
       "    <tr>\n",
       "      <th>25%</th>\n",
       "      <td>6.324750</td>\n",
       "      <td>5.288000</td>\n",
       "    </tr>\n",
       "    <tr>\n",
       "      <th>50%</th>\n",
       "      <td>12.550500</td>\n",
       "      <td>41.645500</td>\n",
       "    </tr>\n",
       "    <tr>\n",
       "      <th>75%</th>\n",
       "      <td>18.775250</td>\n",
       "      <td>93.537000</td>\n",
       "    </tr>\n",
       "    <tr>\n",
       "      <th>max</th>\n",
       "      <td>25.000000</td>\n",
       "      <td>113.556000</td>\n",
       "    </tr>\n",
       "  </tbody>\n",
       "</table>\n",
       "</div>"
      ],
      "text/plain": [
       "            speed       power\n",
       "count  500.000000  500.000000\n",
       "mean    12.590398   48.014584\n",
       "std      7.224991   41.614572\n",
       "min      0.000000    0.000000\n",
       "25%      6.324750    5.288000\n",
       "50%     12.550500   41.645500\n",
       "75%     18.775250   93.537000\n",
       "max     25.000000  113.556000"
      ]
     },
     "execution_count": 5,
     "metadata": {},
     "output_type": "execute_result"
    }
   ],
   "source": [
    "#summary statistics\n",
    "df.describe()"
   ]
  },
  {
   "cell_type": "code",
   "execution_count": 6,
   "metadata": {},
   "outputs": [
    {
     "data": {
      "image/png": "[encoded data removed]",
      "text/plain": [
       "<Figure size 432x288 with 1 Axes>"
      ]
     },
     "metadata": {},
     "output_type": "display_data"
    }
   ],
   "source": [
    "#plotting the dataset\n",
    "plt.plot(df['speed'],df['power'],'.',color='black')\n",
    "plt.title(f'{df.columns[0]} vs {df.columns[1]}')\n",
    "plt.xlabel(f'{df.columns[0]}')\n",
    "plt.ylabel(f'{df.columns[1]}');"
   ]
  },
  {
   "cell_type": "markdown",
   "metadata": {},
   "source": [
    "Looking at the relationship between speed and power we can see that when the speed gets above 10, the power begins to increase sharply but flattens out again once the speed reaches approx 17.5. \n",
    "\n",
    "There are also a number of zero values for power when speed is greater than zero. We may view theswe as outliers, incorrect measurements or some anomoly in the data. We will fit a line with and without these values and look at the comparison.\n",
    "\n",
    "The relationship between speed and power shows a curve or *s shape* pattern. This suggests we should investigate different degrees values when fitting our best fit line."
   ]
  },
  {
   "cell_type": "markdown",
   "metadata": {},
   "source": [
    "### Model 1: Simple Linear Regression with Numpy Polyfit all values\n",
    "\n",
    "$ y = mx + c $\n",
    "\n",
    "The number $m$ is the slope if the line. The slope is how much $y$ increases by when $x$ is increased by 1.0. The $c$ is the y-intercept of the line. It is the value of $y$ when $x$ is at zero.\n",
    "\n",
    "Using the numpy polyfit function we can identify the coefficents or the $m$ and the $c$. For a staright line we will pass *1* as the degree to create a staright line. Later we will look at applying different degrees to prehaps get a better overall fit.\n",
    "\n",
    "A simple linear regression estimates the relationship between the values. In the dataset this is speed and power. Performing a linear regression on this dataset we can identify how strong the relationship is between these two variables. Power is *dependent* on Speed *(independent)*. \n",
    "\n"
   ]
  },
  {
   "cell_type": "code",
   "execution_count": 7,
   "metadata": {},
   "outputs": [],
   "source": [
    "#polyfit function, identifiying coeffieients\n",
    "coeffs= np.polyfit(df['speed'],df['power'],1)\n",
    "\n",
    "#power and speed values as variable\n",
    "power = df['power']\n",
    "speed = df['speed']\n",
    "\n",
    "\n",
    "\n",
    "#cost ref https://github.com/ianmcloughlin/jupyter-teaching-notebooks/blob/master/simple-linear-regression.ipynb\n",
    "cost1 = lambda m,c: np.sum([(power[i] - coeffs[0] * speed[i] - coeffs[1])**2 for i in range(speed.size)])"
   ]
  },
  {
   "cell_type": "markdown",
   "metadata": {},
   "source": [
    "#### Coefficient of determination\n",
    "\n",
    "ref https://blog.minitab.com/blog/adventures-in-statistics-2/regression-analysis-how-do-i-interpret-r-squared-and-assess-the-goodness-of-fit\n",
    "\n",
    "$$ R^2 = 1 - \\frac{\\sum_i (y_i - m x_i - c)^2}{\\sum_i (y_i - \\bar{y})^2} $$\n",
    "\n",
    "The R-squared is a statistical measure of how close the data are to the fitted regression line. It is also known as the coefficient of determination, or the coefficient of multiple determination for multiple regression.\n",
    "\n",
    "The definition of R-squared is the percentage of the response variable variation that is explained by a linear model. In general the higher the value the better the model fits the data.\n",
    "\n",
    "The R-squared values range from 0 to 1 and are repesneted by percentages. It really only works  with one explanatory variable."
   ]
  },
  {
   "cell_type": "code",
   "execution_count": 8,
   "metadata": {},
   "outputs": [
    {
     "name": "stdout",
     "output_type": "stream",
     "text": [
      "The R-squared value is 0.7289\n"
     ]
    }
   ],
   "source": [
    "#calculating R-squared value for the dataset\n",
    "rsq = np.corrcoef(power,speed)[0][1]**2\n",
    "print(\"The R-squared value is %6.4f\" % rsq)"
   ]
  },
  {
   "cell_type": "markdown",
   "metadata": {},
   "source": [
    "An R-Squared value of .7289 "
   ]
  },
  {
   "cell_type": "markdown",
   "metadata": {},
   "source": [
    "### Cost Function\n",
    "\n",
    "ref https://towardsdatascience.com/machine-learning-fundamentals-via-linear-regression-41a5d11f5220\n",
    "\n",
    "$$ \\sum_i (y_i - mx_i - c)^2 $$\n",
    "\n",
    "The cost function when applying the coffeficents identified by the polyfit function is the mean of the squared differences between predicted y and actual y (i.e. the residuals). The lower the cost means more accuracy in the model."
   ]
  },
  {
   "cell_type": "code",
   "execution_count": 9,
   "metadata": {},
   "outputs": [
    {
     "name": "stdout",
     "output_type": "stream",
     "text": [
      "Cost with m =  4.92 and c = -13.90: 234241.16\n"
     ]
    }
   ],
   "source": [
    "print(\"Cost with m = %5.2f and c = %5.2f: %8.2f\" % (coeffs[0],coeffs[1], cost1(coeffs[0],coeffs[1])))\n",
    "cost1 = cost1(coeffs[0],coeffs[1]) "
   ]
  },
  {
   "cell_type": "markdown",
   "metadata": {},
   "source": [
    "#### Fitting the model"
   ]
  },
  {
   "cell_type": "code",
   "execution_count": 10,
   "metadata": {},
   "outputs": [
    {
     "data": {
      "image/png": "[encoded data removed]",
      "text/plain": [
       "<Figure size 432x288 with 1 Axes>"
      ]
     },
     "metadata": {},
     "output_type": "display_data"
    }
   ],
   "source": [
    "plt.plot(df['speed'],df['power'],'.',color='black')\n",
    "plt.title(f'{df.columns[0]} vs {df.columns[1]}')\n",
    "plt.xlabel(f'{df.columns[0]}')\n",
    "plt.ylabel(f'{df.columns[1]}')\n",
    "\n",
    "#plotting coeffeicent values\n",
    "plt.plot(df['speed'],coeffs[0] *df['speed'] + coeffs[1],color='blue',label = 'Best Fit line');"
   ]
  },
  {
   "cell_type": "markdown",
   "metadata": {},
   "source": [
    "#### Discuss model"
   ]
  },
  {
   "cell_type": "markdown",
   "metadata": {},
   "source": [
    "#### function for prediction"
   ]
  },
  {
   "cell_type": "code",
   "execution_count": 11,
   "metadata": {},
   "outputs": [],
   "source": [
    "def predict_m1(x):\n",
    "    return coeffs[0] *+ x + coeffs[1]"
   ]
  },
  {
   "cell_type": "markdown",
   "metadata": {},
   "source": [
    "#### Example of predictions using model 1"
   ]
  },
  {
   "cell_type": "code",
   "execution_count": 12,
   "metadata": {},
   "outputs": [
    {
     "name": "stdout",
     "output_type": "stream",
     "text": [
      "-13.899902630519595\n",
      "10.688075696503752\n",
      "35.276054023527095\n",
      "59.864032350550445\n",
      "84.4520106775738\n"
     ]
    }
   ],
   "source": [
    "print(predict_m1(0))\n",
    "print(predict_m1(5))\n",
    "print(predict_m1(10))\n",
    "print(predict_m1(15))\n",
    "print(predict_m1(20))"
   ]
  },
  {
   "cell_type": "markdown",
   "metadata": {},
   "source": [
    "### Model 1: Simple Linear Regression with Numpy Polyfit removing zero values for power"
   ]
  },
  {
   "cell_type": "code",
   "execution_count": 13,
   "metadata": {},
   "outputs": [],
   "source": [
    "df2 = df[df['power']!=0].reset_index()"
   ]
  },
  {
   "cell_type": "code",
   "execution_count": 14,
   "metadata": {},
   "outputs": [],
   "source": [
    "#polyfit function, identifiying coeffieients\n",
    "coeffs2= np.polyfit(df2['speed'],df2['power'],1)\n",
    "\n",
    "#power and speed values as variable\n",
    "power2 = df2['power']\n",
    "speed2 = df2['speed']\n",
    "\n",
    "\n",
    "\n",
    "#cost ref https://github.com/ianmcloughlin/jupyter-teaching-notebooks/blob/master/simple-linear-regression.ipynb\n",
    "cost2 = lambda m,c: np.sum([(power2[i] - coeffs2[0] * speed2[i] - coeffs2[1])**2 for i in range(speed2.size)])"
   ]
  },
  {
   "cell_type": "code",
   "execution_count": 15,
   "metadata": {},
   "outputs": [
    {
     "name": "stdout",
     "output_type": "stream",
     "text": [
      "The R-squared value is 0.8985\n"
     ]
    }
   ],
   "source": [
    "#calculating R-squared value for the dataset\n",
    "rsq2 = np.corrcoef(power2,speed2)[0][1]**2\n",
    "print(\"The R-squared value is %6.4f\" % rsq2)"
   ]
  },
  {
   "cell_type": "code",
   "execution_count": 16,
   "metadata": {},
   "outputs": [
    {
     "name": "stdout",
     "output_type": "stream",
     "text": [
      "Cost with m =  5.62 and c = -19.84: 75012.39\n"
     ]
    }
   ],
   "source": [
    "print(\"Cost with m = %5.2f and c = %5.2f: %8.2f\" % (coeffs2[0],coeffs2[1], cost2(coeffs2[0],coeffs2[1])))\n",
    "cost2 = cost2(coeffs2[0],coeffs2[1]) "
   ]
  },
  {
   "cell_type": "code",
   "execution_count": 17,
   "metadata": {},
   "outputs": [
    {
     "data": {
      "image/png": "[encoded data removed]",
      "text/plain": [
       "<Figure size 432x288 with 1 Axes>"
      ]
     },
     "metadata": {},
     "output_type": "display_data"
    }
   ],
   "source": [
    "plt.plot(df2['speed'],df2['power'],'.',color='black')\n",
    "plt.title(f'{df.columns[0]} vs {df.columns[1]}')\n",
    "plt.xlabel(f'{df.columns[0]}')\n",
    "plt.ylabel(f'{df.columns[1]}')\n",
    "\n",
    "#plotting coeffeicent values\n",
    "plt.plot(df2['speed'],coeffs2[0] *df2['speed'] + coeffs2[1],color='blue',label = 'Best Fit line');"
   ]
  },
  {
   "cell_type": "code",
   "execution_count": 18,
   "metadata": {},
   "outputs": [],
   "source": [
    "def predict_m2(x):\n",
    "    return coeffs2[0] *+ x + coeffs2[1]"
   ]
  },
  {
   "cell_type": "code",
   "execution_count": 19,
   "metadata": {},
   "outputs": [
    {
     "name": "stdout",
     "output_type": "stream",
     "text": [
      "-19.837685452108364\n",
      "8.256453736784334\n",
      "36.350592925677034\n",
      "64.44473211456973\n",
      "92.53887130346243\n"
     ]
    }
   ],
   "source": [
    "print(predict_m2(0))\n",
    "print(predict_m2(5))\n",
    "print(predict_m2(10))\n",
    "print(predict_m2(15))\n",
    "print(predict_m2(20))"
   ]
  },
  {
   "cell_type": "markdown",
   "metadata": {},
   "source": [
    "### Simple Linear Regression SK Learn"
   ]
  },
  {
   "cell_type": "markdown",
   "metadata": {},
   "source": [
    "#### All data"
   ]
  },
  {
   "cell_type": "code",
   "execution_count": 20,
   "metadata": {},
   "outputs": [],
   "source": [
    "import sklearn.linear_model as lin\n",
    "\n",
    "x = speed.to_numpy()\n",
    "y = power.to_numpy()\n",
    "\n",
    "x = x.reshape(-1,1)\n",
    "\n",
    "\n",
    "model = lin.LinearRegression()\n",
    "model.fit(x, y)\n",
    "\n",
    "rsq3 = model.score(x,y)\n",
    "coeffs3 = [model.coef_[0],model.intercept_]\n",
    "\n",
    "cost3 = lambda m,c: np.sum([(y[i] - coeffs3[0] * x[i] - coeffs3[1])**2 for i in range(y.size)])"
   ]
  },
  {
   "cell_type": "code",
   "execution_count": 21,
   "metadata": {},
   "outputs": [
    {
     "name": "stdout",
     "output_type": "stream",
     "text": [
      "The R-squared value is 0.7289\n"
     ]
    }
   ],
   "source": [
    "print(\"The R-squared value is %6.4f\" % rsq3)"
   ]
  },
  {
   "cell_type": "code",
   "execution_count": 22,
   "metadata": {},
   "outputs": [
    {
     "name": "stdout",
     "output_type": "stream",
     "text": [
      "Cost with m =  4.92 and c = -13.90: 234241.16\n"
     ]
    }
   ],
   "source": [
    "print(\"Cost with m = %5.2f and c = %5.2f: %8.2f\" % (coeffs3[0],coeffs3[1], cost3(coeffs3[0],coeffs3[1])))\n",
    "cost3 = cost3(coeffs3[1],coeffs3[0])"
   ]
  },
  {
   "cell_type": "code",
   "execution_count": 23,
   "metadata": {},
   "outputs": [],
   "source": [
    "def predict_m3(x):\n",
    "    return coeffs3[0] *+ x + coeffs3[1]"
   ]
  },
  {
   "cell_type": "markdown",
   "metadata": {},
   "source": [
    "#### Zero Values Removed"
   ]
  },
  {
   "cell_type": "code",
   "execution_count": 24,
   "metadata": {},
   "outputs": [],
   "source": [
    "x2 = speed2.to_numpy()\n",
    "y2 = power2.to_numpy()\n",
    "\n",
    "x2 = x2.reshape(-1,1)\n",
    "\n",
    "\n",
    "model = lin.LinearRegression()\n",
    "model.fit(x2, y2)\n",
    "\n",
    "rsq4 = model.score(x2,y2)\n",
    "coeffs4 = [model.coef_[0],model.intercept_]\n",
    "\n",
    "cost4 = lambda m,c: np.sum([(y2[i] - coeffs4[0] * x2[i] - coeffs4[1])**2 for i in range(y2.size)])"
   ]
  },
  {
   "cell_type": "code",
   "execution_count": 25,
   "metadata": {},
   "outputs": [
    {
     "name": "stdout",
     "output_type": "stream",
     "text": [
      "The R-squared value is 0.8985\n"
     ]
    }
   ],
   "source": [
    "print(\"The R-squared value is %6.4f\" % rsq4)"
   ]
  },
  {
   "cell_type": "code",
   "execution_count": 26,
   "metadata": {},
   "outputs": [
    {
     "name": "stdout",
     "output_type": "stream",
     "text": [
      "Cost with m =  5.62 and c = -19.84: 75012.39\n"
     ]
    }
   ],
   "source": [
    "print(\"Cost with m = %5.2f and c = %5.2f: %8.2f\" % (coeffs4[0],coeffs4[1], cost4(coeffs4[0],coeffs4[1])))\n",
    "cost4 = cost4(coeffs4[1],coeffs4[0])"
   ]
  },
  {
   "cell_type": "code",
   "execution_count": 27,
   "metadata": {},
   "outputs": [],
   "source": [
    "def predict_m4(x):\n",
    "    return coeffs4[0] *+ x + coeffs4[1]"
   ]
  },
  {
   "cell_type": "code",
   "execution_count": 28,
   "metadata": {},
   "outputs": [
    {
     "name": "stdout",
     "output_type": "stream",
     "text": [
      "-19.837685452108396\n",
      "8.256453736784316\n",
      "36.35059292567703\n",
      "64.44473211456975\n",
      "92.53887130346246\n"
     ]
    }
   ],
   "source": [
    "print(predict_m4(0))\n",
    "print(predict_m4(5))\n",
    "print(predict_m4(10))\n",
    "print(predict_m4(15))\n",
    "print(predict_m4(20))"
   ]
  },
  {
   "cell_type": "markdown",
   "metadata": {},
   "source": [
    "#### Comparision Dataframe of models\n",
    "\n",
    "We can compare the difference in the R-squared value and cost value between model 1 (all the data) and model 2 (zero values for power removed)"
   ]
  },
  {
   "cell_type": "code",
   "execution_count": 29,
   "metadata": {},
   "outputs": [],
   "source": [
    "#ref https://stackoverflow.com/questions/16597265/appending-to-an-empty-dataframe-in-pandas\n",
    "compare_df = pd.DataFrame(columns = ['R-squared', 'Cost'])"
   ]
  },
  {
   "cell_type": "code",
   "execution_count": 30,
   "metadata": {},
   "outputs": [],
   "source": [
    "compare_df = compare_df.append({'R-squared':rsq,'Cost':cost1,'Model':'Polyfit Model 1: All Data'},ignore_index=True)\n",
    "compare_df = compare_df.append({'R-squared':rsq2,'Cost':cost2,'Model':'Polyfit Model 3: Zeros Removed'},ignore_index=True)"
   ]
  },
  {
   "cell_type": "code",
   "execution_count": 31,
   "metadata": {},
   "outputs": [
    {
     "data": {
      "image/png": "[encoded data removed]",
      "text/plain": [
       "<Figure size 432x288 with 1 Axes>"
      ]
     },
     "metadata": {},
     "output_type": "display_data"
    }
   ],
   "source": [
    "sns.barplot(x='Model',data=compare_df,y='R-squared')\n",
    "plt.title('R-Squared Comparison');"
   ]
  },
  {
   "cell_type": "code",
   "execution_count": 32,
   "metadata": {},
   "outputs": [
    {
     "data": {
      "image/png": "[encoded data removed]",
      "text/plain": [
       "<Figure size 432x288 with 1 Axes>"
      ]
     },
     "metadata": {},
     "output_type": "display_data"
    }
   ],
   "source": [
    "sns.barplot(x='Model',data=compare_df,y='Cost')\n",
    "plt.title('Cost Comparison');"
   ]
  },
  {
   "cell_type": "code",
   "execution_count": 33,
   "metadata": {},
   "outputs": [
    {
     "data": {
      "image/png": "[encoded data removed]",
      "text/plain": [
       "<Figure size 432x288 with 1 Axes>"
      ]
     },
     "metadata": {},
     "output_type": "display_data"
    }
   ],
   "source": [
    "#plt.plot(df['speed'],df['power'],'.',color='black')\n",
    "#plt.title(f'{df.columns[0]} vs {df.columns[1]}')\n",
    "#plt.xlabel(f'{df.columns[0]}')\n",
    "#plt.ylabel(f'{df.columns[1]}')\n",
    "\n",
    "#plotting coeffeicent values\n",
    "plt.plot(df['speed'],coeffs[0] *df['speed'] + coeffs[1],color='blue',label = 'Model 1')\n",
    "plt.plot(df2['speed'],coeffs2[0] *df2['speed'] + coeffs2[1],'--',color='red',label = 'Model 2');"
   ]
  },
  {
   "cell_type": "markdown",
   "metadata": {},
   "source": [
    "### Polynomial\n",
    "Create a function to call multile poly degrees"
   ]
  },
  {
   "cell_type": "code",
   "execution_count": 104,
   "metadata": {},
   "outputs": [
    {
     "data": {
      "image/png": "[encoded data removed]",
      "text/plain": [
       "<Figure size 432x288 with 1 Axes>"
      ]
     },
     "metadata": {},
     "output_type": "display_data"
    }
   ],
   "source": [
    "#ref https://pythonbasics.org/polynomial-regression-in-python/\n",
    "\n",
    "X = speed\n",
    "Y = power\n",
    "\n",
    "# Train Algorithm (Polynomial)\n",
    "degree = 1\n",
    "poly_fit = np.poly1d(np.polyfit(X,Y, degree))\n",
    "\n",
    "# Plot data\n",
    "xx = np.linspace(0, 26, 100)\n",
    "plt.plot(xx, poly_fit(xx), c='r',linestyle='-')\n",
    "plt.scatter(X,Y)\n",
    "plt.title(f'Polynoial to the {degree} degree')\n",
    "plt.xlabel('Speed')\n",
    "plt.ylabel('Power')\n",
    "plt.ylim(-20);\n"
   ]
  },
  {
   "cell_type": "code",
   "execution_count": 105,
   "metadata": {},
   "outputs": [
    {
     "data": {
      "text/plain": [
       "poly1d([  4.91759567, -13.89990263])"
      ]
     },
     "execution_count": 105,
     "metadata": {},
     "output_type": "execute_result"
    }
   ],
   "source": [
    "poly_fit"
   ]
  },
  {
   "cell_type": "code",
   "execution_count": null,
   "metadata": {},
   "outputs": [],
   "source": []
  }
 ],
 "metadata": {
  "kernelspec": {
   "display_name": "Python 3",
   "language": "python",
   "name": "python3"
  },
  "language_info": {
   "codemirror_mode": {
    "name": "ipython",
    "version": 3
   },
   "file_extension": ".py",
   "mimetype": "text/x-python",
   "name": "python",
   "nbconvert_exporter": "python",
   "pygments_lexer": "ipython3",
   "version": "3.8.3"
  }
 },
 "nbformat": 4,
 "nbformat_minor": 4
}
